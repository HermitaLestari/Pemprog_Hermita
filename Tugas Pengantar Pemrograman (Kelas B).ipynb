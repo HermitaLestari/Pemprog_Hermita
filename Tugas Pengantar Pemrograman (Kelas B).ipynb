{
 "cells": [
  {
   "cell_type": "markdown",
   "metadata": {},
   "source": [
    "# NAMA : HERMITA LESTARI\n",
    "# NIM : H061241062"
   ]
  },
  {
   "cell_type": "markdown",
   "metadata": {},
   "source": [
    "**Soal 1**: Seorang pelanggan membeli baju di toko. Jika 3 angka terakhir NIM Anda > 600, dia mendapatkan diskon 20%. Jika tidak, diskon 10%. Buat program untuk menghitung total harga."
   ]
  },
  {
   "cell_type": "code",
   "execution_count": null,
   "metadata": {},
   "outputs": [
    {
     "name": "stdout",
     "output_type": "stream",
     "text": [
      "Total harga setelah diskon: Rp149999.90\n"
     ]
    }
   ],
   "source": [
    "def hitung_total_harga(harga_awal, nim_terakhir):\n",
    "    if nim_terakhir > 600:\n",
    "        diskon = 0.2  # 20%\n",
    "    else:\n",
    "        diskon = 0.1  # 10%\n",
    "    \n",
    "    harga_diskon = harga_awal * (1 - diskon)\n",
    "    harga_setelah_diskon = harga_awal - diskon\n",
    "    return harga_setelah_diskon\n",
    "\n",
    "# Input harga dan NIM\n",
    "harga_awal = 150000\n",
    "nim_terakhir = 62  \n",
    "\n",
    "# Hitung total harga\n",
    "harga_total = hitung_total_harga(harga_awal, nim_terakhir)\n",
    "print(f\"Total harga setelah diskon: Rp{harga_total:.2f}\")"
   ]
  },
  {
   "cell_type": "markdown",
   "metadata": {},
   "source": [
    "**Soal 2**: Seorang siswa ingin menentukan apakah dia mendapatkan beasiswa. Jika 3 angka terakhir NIM Anda genap, syaratnya nilai >= 85. Jika ganjil, syaratnya nilai >= 80. Buat program untuk menentukan hasilnya.\n"
   ]
  },
  {
   "cell_type": "code",
   "execution_count": 10,
   "metadata": {},
   "outputs": [
    {
     "name": "stdout",
     "output_type": "stream",
     "text": [
      "Selamat, Anda mendapatkan beasiswa!\n"
     ]
    }
   ],
   "source": [
    "# Program untuk menentukan kelayakan beasiswa\n",
    "def cek_beasiswa(nim_terakhir, nilai):\n",
    "    if nim_terakhir % 2 == 0: # NIM Genap\n",
    "        if nilai >= 85:\n",
    "            return \"Selamat, Anda mendapatkan beasiswa!\"\n",
    "        else:\n",
    "             return \"Maaf, Anda tidak memenuhi syarat beasiswa.\"\n",
    "    else: # NIM Ganjil\n",
    "        if nilai >= 80:\n",
    "            return \"Selamat, Anda mendapatkan beasiswa!\"\n",
    "        else:\n",
    "            return \"Maaf, Anda tidak memenuhi syarat beasiswa.\"\n",
    "\n",
    "nim = 62\n",
    "nilai_siswa = 87\n",
    "\n",
    "# Cek beasiswa\n",
    "hasil_beasiswa = cek_beasiswa(nim_terakhir, nilai_siswa)\n",
    "print(hasil_beasiswa)"
   ]
  },
  {
   "cell_type": "markdown",
   "metadata": {},
   "source": [
    "**Soal 3**: Sebuah toko online memberikan diskon 15% jika total belanja di atas Rp 300.000 dikurangi 3 angka terakhir NIM Anda. Buat program untuk menghitung total harga."
   ]
  },
  {
   "cell_type": "code",
   "execution_count": 3,
   "metadata": {},
   "outputs": [
    {
     "name": "stdout",
     "output_type": "stream",
     "text": [
      "Total harga setelah diskon toko: Rp425000.00\n"
     ]
    }
   ],
   "source": [
    "# Program untuk menghitung diskon toko online\n",
    "def hitung_diskon_toko(total_belanja):\n",
    "    batas_diskon = 300000 - 0.62\n",
    "    if total_belanja > batas_diskon:\n",
    "        diskon = 0.15  # 15%\n",
    "    else:\n",
    "        diskon = 0.0  # Tidak ada diskon\n",
    "    \n",
    "    total_setelah_diskon = 500000 * (1 - 0.15)\n",
    "    return total_setelah_diskon\n",
    "\n",
    "# Input total belanja\n",
    "total_belanja = 500000\n",
    "\n",
    "# Hitung total harga setelah diskon\n",
    "total_harga_setelah_diskon = hitung_diskon_toko(total_belanja)\n",
    "print(f\"Total harga setelah diskon toko: Rp{total_harga_setelah_diskon:.2f}\")"
   ]
  },
  {
   "cell_type": "markdown",
   "metadata": {},
   "source": [
    "**Soal 4**: Seorang karyawan mendapatkan bonus jika bekerja lebih dari 50 jam. Bonusnya adalah 15% dari gaji ditambah 3 angka terakhir NIM Anda. Buat program untuk menghitung gaji karyawan."
   ]
  },
  {
   "cell_type": "code",
   "execution_count": 9,
   "metadata": {},
   "outputs": [
    {
     "name": "stdout",
     "output_type": "stream",
     "text": [
      "Gaji total karyawan adalah: Rp 805000.62\n"
     ]
    }
   ],
   "source": [
    "def hitung_gaji(gaji, jam_kerja):\n",
    "    # Menghitung bonus jika jam kerja lebih dari 50\n",
    "    if jam_kerja > 50:\n",
    "        bonus = (0.15 * gaji) + 0.62\n",
    "    else:\n",
    "        bonus = 0\n",
    "    \n",
    "    # Menghitung gaji total\n",
    "    gaji_total = gaji + bonus\n",
    "    return gaji_total\n",
    "\n",
    "# Data gaji dan jam kerja karyawan\n",
    "gaji_karyawan = 700000  \n",
    "jam_kerja_karyawan = 52  \n",
    "\n",
    "# Hitung gaji total\n",
    "gaji_total = hitung_gaji(gaji_karyawan, jam_kerja_karyawan)\n",
    "\n",
    "# Tampilkan hasil\n",
    "print(f\"Gaji total karyawan adalah: Rp {gaji_total:.2f}\")"
   ]
  },
  {
   "cell_type": "markdown",
   "metadata": {},
   "source": [
    "**Soal 5**: Sebuah restoran memberikan diskon 10% untuk pesanan di atas Rp 100.000 ditambah 3 angka terakhir NIM Anda. Buat program untuk menghitung total biaya."
   ]
  },
  {
   "cell_type": "code",
   "execution_count": 10,
   "metadata": {},
   "outputs": [
    {
     "name": "stdout",
     "output_type": "stream",
     "text": [
      "Total biaya setelah diskon adalah: Rp 180000.00\n"
     ]
    }
   ],
   "source": [
    "def hitung_total(biaya):\n",
    "    if biaya > 100062:\n",
    "        diskon = 0.10 * biaya\n",
    "    else:\n",
    "        diskon = 0\n",
    "    \n",
    "    total_biaya = biaya - diskon\n",
    "    return total_biaya\n",
    "\n",
    "# Total biaya pesanan diberikan secara langsung\n",
    "biaya_pesanan = 200000\n",
    "\n",
    "# Hitung dan cetak total biaya setelah diskon\n",
    "total_biaya = hitung_total(biaya_pesanan)\n",
    "print(f\"Total biaya setelah diskon adalah: Rp {total_biaya:.2f}\")"
   ]
  },
  {
   "cell_type": "markdown",
   "metadata": {},
   "source": [
    "**Soal 6**: Seorang pelari ingin menentukan apakah dia berhasil memenuhi target latihan. Jika jarak lari > (3 angka terakhir NIM Anda % 10) km, dia berhasil. Buat program untuk menentukan hasil latihannya."
   ]
  },
  {
   "cell_type": "code",
   "execution_count": 12,
   "metadata": {},
   "outputs": [
    {
     "name": "stdout",
     "output_type": "stream",
     "text": [
      "Berhasil memenuhi target latihan.\n"
     ]
    }
   ],
   "source": [
    "def cek_target(jarak):\n",
    "    # Menghitung target latihan\n",
    "    target = (62 % 10)  # Hasilnya adalah 0\n",
    "    \n",
    "    # Mengecek apakah pelari berhasil\n",
    "    if jarak > target:\n",
    "        return \"Berhasil memenuhi target latihan.\"\n",
    "    else:\n",
    "        return \"Belum memenuhi target latihan.\"\n",
    "\n",
    "jarak_lari = 8  \n",
    "\n",
    "# Tampilkan hasil\n",
    "hasil = cek_target(jarak_lari)\n",
    "print(hasil)"
   ]
  },
  {
   "cell_type": "markdown",
   "metadata": {},
   "source": [
    "**Soal 7**: Sebuah bioskop memberikan diskon 50% untuk pelajar jika 3 angka terakhir NIM Anda genap. Jika ganjil, diskon 25%. Buat program untuk menentukan harga tiket."
   ]
  },
  {
   "cell_type": "code",
   "execution_count": 13,
   "metadata": {},
   "outputs": [
    {
     "name": "stdout",
     "output_type": "stream",
     "text": [
      "Harga tiket untuk NIM 062 adalah: Rp 35000\n"
     ]
    }
   ],
   "source": [
    "def hitung_harga_tiket(nim, harga_tiket):\n",
    "    # Mengambil 3 angka terakhir dari NIM\n",
    "    tiga_angka_terakhir = int(nim[-3:])\n",
    "    \n",
    "    # Menentukan jenis diskon berdasarkan ganjil/genap\n",
    "    if tiga_angka_terakhir % 2 == 0:\n",
    "        diskon = 0.50  # Diskon 50% jika genap\n",
    "    else:\n",
    "        diskon = 0.25  # Diskon 25% jika ganjil\n",
    "    \n",
    "    # Menghitung harga setelah diskon\n",
    "    harga_setelah_diskon = harga_tiket * (1 - diskon)\n",
    "    return harga_setelah_diskon\n",
    "\n",
    "# NIM pelajar dan harga tiket bioskop\n",
    "nim_pelajar = \"062\"  \n",
    "harga_tiket = 70000  \n",
    "\n",
    "# Hitung harga tiket setelah diskon\n",
    "harga_final = hitung_harga_tiket(nim_pelajar, harga_tiket)\n",
    "\n",
    "# Tampilkan hasil\n",
    "print(f\"Harga tiket untuk NIM {nim_pelajar} adalah: Rp {harga_final:.0f}\")"
   ]
  },
  {
   "cell_type": "markdown",
   "metadata": {},
   "source": [
    "**Soal 8**: Sebuah toko buku memberikan diskon 25% jika pelanggan membeli lebih dari 10 buku dan 3 angka terakhir NIM Anda > 400. Jika tidak, diskon 15%. Buat program untuk menghitung total harga.\n"
   ]
  },
  {
   "cell_type": "code",
   "execution_count": 14,
   "metadata": {},
   "outputs": [
    {
     "name": "stdout",
     "output_type": "stream",
     "text": [
      "Total harga setelah diskon adalah: Rp 510000\n"
     ]
    }
   ],
   "source": [
    "def hitung_total_harga(nim, jumlah_buku, harga_per_buku):\n",
    "    # Mengambil 3 angka terakhir dari NIM\n",
    "    tiga_angka_terakhir = int(nim[-3:])\n",
    "    \n",
    "    # Menentukan diskon\n",
    "    if jumlah_buku > 10 and tiga_angka_terakhir > 400:\n",
    "        diskon = 0.25  # Diskon 25%\n",
    "    else:\n",
    "        diskon = 0.15  # Diskon 15%\n",
    "    \n",
    "    # Menghitung total harga sebelum diskon\n",
    "    total_harga = jumlah_buku * harga_per_buku\n",
    "    # Menghitung total harga setelah diskon\n",
    "    harga_setelah_diskon = total_harga * (1 - diskon)\n",
    "    return harga_setelah_diskon\n",
    "\n",
    "# NIM pelanggan dan data pembelian\n",
    "nim_pelanggan = \"062\"  \n",
    "jumlah_buku = 12       \n",
    "harga_per_buku = 50000  \n",
    "\n",
    "# Hitung total harga setelah diskon\n",
    "total_harga = hitung_total_harga(nim_pelanggan, jumlah_buku, harga_per_buku)\n",
    "\n",
    "# Tampilkan hasil\n",
    "print(f\"Total harga setelah diskon adalah: Rp {total_harga:.0f}\")"
   ]
  },
  {
   "cell_type": "markdown",
   "metadata": {},
   "source": [
    "**Soal 9**: Seorang mahasiswa ingin menentukan apakah suatu bilangan positif, negatif, atau nol. Jika 3 angka terakhir NIM Anda genap, cetak \"Positif\". Jika ganjil, cetak \"Negatif\"."
   ]
  },
  {
   "cell_type": "code",
   "execution_count": 15,
   "metadata": {},
   "outputs": [
    {
     "name": "stdout",
     "output_type": "stream",
     "text": [
      "Positif\n"
     ]
    }
   ],
   "source": [
    "# NIM mahasiswa\n",
    "nim = \"062\"\n",
    "\n",
    "# Mengambil 3 angka terakhir dari NIM\n",
    "last_digit = int(nim[-1])\n",
    "\n",
    "# Mengecek apakah angka terakhir genap atau ganjil\n",
    "if last_digit % 2 == 0:\n",
    "    print(\"Positif\")\n",
    "else:\n",
    "    print(\"Negatif\")"
   ]
  },
  {
   "cell_type": "markdown",
   "metadata": {},
   "source": [
    "**Soal 10**: Sebuah aplikasi menentukan apakah suatu bilangan adalah bilangan Armstrong. Jika 3 angka terakhir NIM Anda genap, cetak \"Armstrong\". Jika ganjil, cetak \"Bukan Armstrong\"."
   ]
  },
  {
   "cell_type": "code",
   "execution_count": 16,
   "metadata": {},
   "outputs": [
    {
     "name": "stdout",
     "output_type": "stream",
     "text": [
      "Armstrong\n"
     ]
    }
   ],
   "source": [
    "def cek_armstrong(nim):\n",
    "    # Mengambil 3 angka terakhir dari NIM\n",
    "    tiga_angka_terakhir = int(nim[-3:])\n",
    "    \n",
    "    # Mengecek apakah 3 angka terakhir genap atau ganjil\n",
    "    if tiga_angka_terakhir % 2 == 0:\n",
    "        return \"Armstrong\"\n",
    "    else:\n",
    "        return \"Bukan Armstrong\"\n",
    "\n",
    "# NIM terakhirnya adalah 062\n",
    "nim = \"062\"\n",
    "\n",
    "# Tampilkan hasil\n",
    "hasil = cek_armstrong(nim)\n",
    "print(hasil)"
   ]
  },
  {
   "cell_type": "markdown",
   "metadata": {},
   "source": [
    "**Soal 11**: Seorang pelanggan ingin mencetak daftar belanjaannya sebanyak (3 angka terakhir NIM Anda % 7) kali. Buat program untuk mencetak daftar belanja tersebut. "
   ]
  },
  {
   "cell_type": "code",
   "execution_count": 18,
   "metadata": {},
   "outputs": [
    {
     "name": "stdout",
     "output_type": "stream",
     "text": [
      "Cetakan ke-1:\n",
      "Daftar Belanja:\n",
      "- Beras\n",
      "- Gula\n",
      "- Minyak Goreng\n",
      "- Telur\n",
      "- Susu\n",
      "\n",
      "Cetakan ke-2:\n",
      "Daftar Belanja:\n",
      "- Beras\n",
      "- Gula\n",
      "- Minyak Goreng\n",
      "- Telur\n",
      "- Susu\n",
      "\n",
      "Cetakan ke-3:\n",
      "Daftar Belanja:\n",
      "- Beras\n",
      "- Gula\n",
      "- Minyak Goreng\n",
      "- Telur\n",
      "- Susu\n",
      "\n",
      "Cetakan ke-4:\n",
      "Daftar Belanja:\n",
      "- Beras\n",
      "- Gula\n",
      "- Minyak Goreng\n",
      "- Telur\n",
      "- Susu\n",
      "\n",
      "Cetakan ke-5:\n",
      "Daftar Belanja:\n",
      "- Beras\n",
      "- Gula\n",
      "- Minyak Goreng\n",
      "- Telur\n",
      "- Susu\n",
      "\n",
      "Cetakan ke-6:\n",
      "Daftar Belanja:\n",
      "- Beras\n",
      "- Gula\n",
      "- Minyak Goreng\n",
      "- Telur\n",
      "- Susu\n",
      "\n"
     ]
    }
   ],
   "source": [
    "def cetak_daftar_belanja(daftar_belanja):\n",
    "    # Menghitung jumlah cetakan\n",
    "    jumlah_cetak = 62 % 7  # Hasilnya adalah 6\n",
    "    \n",
    "    # Mencetak daftar belanjaan sebanyak jumlah_cetak kali\n",
    "    for i in range(jumlah_cetak):\n",
    "        print(f\"Cetakan ke-{i + 1}:\")\n",
    "        print(\"Daftar Belanja:\")\n",
    "        for item in daftar_belanja:\n",
    "            print(f\"- {item}\")\n",
    "        print()  # Baris kosong untuk pemisah\n",
    "\n",
    "# Daftar belanjaan\n",
    "daftar_belanja = [\"Beras\", \"Gula\", \"Minyak Goreng\", \"Telur\", \"Susu\"]\n",
    "\n",
    "# Panggil fungsi untuk mencetak daftar belanja\n",
    "cetak_daftar_belanja(daftar_belanja)\n",
    "\n"
   ]
  },
  {
   "cell_type": "markdown",
   "metadata": {},
   "source": [
    "**Soal 12**: Seorang guru ingin mencetak angka dari 1 sampai 50, tetapi hanya bilangan kelipatan (3 angka terakhir NIM Anda % 6). Buat program untuk mencetak bilangan tersebut.\n"
   ]
  },
  {
   "cell_type": "code",
   "execution_count": 19,
   "metadata": {},
   "outputs": [
    {
     "name": "stdout",
     "output_type": "stream",
     "text": [
      "Bilangan kelipatan 2 dari 1 sampai 50:\n",
      "2 4 6 8 10 12 14 16 18 20 22 24 26 28 30 32 34 36 38 40 42 44 46 48 50 \n"
     ]
    }
   ],
   "source": [
    "# Program untuk mencetak bilangan kelipatan\n",
    "def cetak_kelipatan(batas, kelipatan):\n",
    "    print(f\"Bilangan kelipatan {kelipatan} dari 1 sampai {batas}:\")\n",
    "    for i in range(1, batas + 1):\n",
    "        if i % kelipatan == 0:\n",
    "            print(i, end=\" \")\n",
    "    print()  # Baris kosong di akhir\n",
    "\n",
    "# Menghitung kelipatan dari (062 % 6)\n",
    "kelipatan = 62 % 6  # Hasilnya adalah 2\n",
    "batas = 50\n",
    "\n",
    "# Cetak bilangan kelipatan\n",
    "cetak_kelipatan(batas, kelipatan)"
   ]
  },
  {
   "cell_type": "markdown",
   "metadata": {},
   "source": [
    "**Soal 13**: Seorang penjual ingin mencetak tabel perkalian (3 angka terakhir NIM Anda % 8). Buat program untuk mencetak tabel tersebut."
   ]
  },
  {
   "cell_type": "code",
   "execution_count": 20,
   "metadata": {},
   "outputs": [
    {
     "name": "stdout",
     "output_type": "stream",
     "text": [
      "Tabel Perkalian 6:\n",
      "6 x 1 = 6\n",
      "6 x 2 = 12\n",
      "6 x 3 = 18\n",
      "6 x 4 = 24\n",
      "6 x 5 = 30\n",
      "6 x 6 = 36\n",
      "6 x 7 = 42\n",
      "6 x 8 = 48\n",
      "6 x 9 = 54\n",
      "6 x 10 = 60\n"
     ]
    }
   ],
   "source": [
    "# Program untuk mencetak tabel perkalian\n",
    "def cetak_tabel_perkalian(n):\n",
    "    print(f\"Tabel Perkalian {n}:\")\n",
    "    for i in range(1, 11):\n",
    "        print(f\"{n} x {i} = {n * i}\")\n",
    "\n",
    "# Menghitung angka perkalian dari (062 % 8)\n",
    "angka_perkalian = 62 % 8  # Hasilnya adalah 6\n",
    "\n",
    "# Cetak tabel perkalian\n",
    "cetak_tabel_perkalian(angka_perkalian)"
   ]
  },
  {
   "cell_type": "markdown",
   "metadata": {},
   "source": [
    "**Soal 14**: Seorang pelukis ingin mencetak pola bintang persegi dengan sisi (3 angka terakhir NIM Anda % 5). Buat program untuk mencetak pola tersebut."
   ]
  },
  {
   "cell_type": "code",
   "execution_count": 21,
   "metadata": {},
   "outputs": [
    {
     "name": "stdout",
     "output_type": "stream",
     "text": [
      "* * \n",
      "* * \n"
     ]
    }
   ],
   "source": [
    "# Program untuk mencetak pola bintang persegi\n",
    "def cetak_pola_bintang(sisi):\n",
    "    for i in range(sisi):\n",
    "        print(\"* \" * sisi)\n",
    "\n",
    "# Menghitung panjang sisi pola dari (062 % 5)\n",
    "panjang_sisi = 62 % 5  # Hasilnya adalah 2\n",
    "\n",
    "# Cetak pola bintang persegi\n",
    "cetak_pola_bintang(panjang_sisi)"
   ]
  },
  {
   "cell_type": "markdown",
   "metadata": {},
   "source": [
    "**Soal 15**: Seorang peneliti ingin mencetak bilangan komposit dari 1 sampai (3 angka terakhir NIM Anda). Buat program untuk mencetak bilangan tersebut."
   ]
  },
  {
   "cell_type": "code",
   "execution_count": 22,
   "metadata": {},
   "outputs": [
    {
     "name": "stdout",
     "output_type": "stream",
     "text": [
      "Bilangan komposit dari 1 sampai 62 :\n",
      "4 6 8 9 10 12 14 15 16 18 20 21 22 24 25 26 27 28 30 32 33 34 35 36 38 39 40 42 44 45 46 48 49 50 51 52 54 55 56 57 58 60 62 \n"
     ]
    }
   ],
   "source": [
    "# Program untuk mencetak bilangan komposit\n",
    "def is_prima(n):\n",
    "    if n < 2:\n",
    "        return False\n",
    "    for i in range(2, int(n ** 0.5) + 1):\n",
    "        if n % i == 0:\n",
    "            return True  # Bilangan komposit\n",
    "    return False\n",
    "\n",
    "# Menghitung bilangan komposit hingga 3 angka terakhir NIM\n",
    "batas_komposit = 62\n",
    "print(\"Bilangan komposit dari 1 sampai\", batas_komposit, \":\")\n",
    "for i in range(1, batas_komposit + 1):\n",
    "    if is_prima(i):\n",
    "        print(i, end=\" \")\n",
    "print()"
   ]
  },
  {
   "cell_type": "markdown",
   "metadata": {},
   "source": [
    "**Soal 16**: Seorang programmer ingin mencetak deret kuadrat dari 1 sampai (3 angka terakhir NIM Anda % 10). Buat program untuk mencetak deret tersebut."
   ]
  },
  {
   "cell_type": "code",
   "execution_count": 23,
   "metadata": {},
   "outputs": [
    {
     "name": "stdout",
     "output_type": "stream",
     "text": [
      "Deret kuadrat dari 1 sampai 2:\n",
      "1 4 \n"
     ]
    }
   ],
   "source": [
    "# Program untuk mencetak deret kuadrat\n",
    "def cetak_deret_kuadrat(n):\n",
    "    print(f\"Deret kuadrat dari 1 sampai {n}:\")\n",
    "    for i in range(1, n + 1):\n",
    "        print(i ** 2, end=\" \")\n",
    "    print()\n",
    "\n",
    "# Menghitung batas deret dari (062 % 10)\n",
    "batas_kuadrat = 62 % 10  # Hasilnya adalah 2\n",
    "\n",
    "# Cetak deret kuadrat\n",
    "cetak_deret_kuadrat(batas_kuadrat)\n"
   ]
  },
  {
   "cell_type": "markdown",
   "metadata": {},
   "source": [
    "**Soal 17**: Seorang petani ingin mencetak bilangan kelipatan (3 angka terakhir NIM Anda % 7) dari 1 sampai 100. Buat program untuk mencetak bilangan tersebut."
   ]
  },
  {
   "cell_type": "code",
   "execution_count": 24,
   "metadata": {},
   "outputs": [
    {
     "name": "stdout",
     "output_type": "stream",
     "text": [
      "Deret kuadrat dari 1 sampai 2:\n",
      "1 4 \n",
      "Bilangan kelipatan 6 dari 1 sampai 100:\n",
      "6 12 18 24 30 36 42 48 54 60 66 72 78 84 90 96 \n"
     ]
    }
   ],
   "source": [
    "# Menghitung batas deret dari (062 % 10)\n",
    "batas_kuadrat = 62 % 10  # Hasilnya adalah 2\n",
    "\n",
    "# Cetak deret kuadrat\n",
    "cetak_deret_kuadrat(batas_kuadrat)\n",
    "\n",
    "# Program untuk mencetak bilangan kelipatan dari 1 sampai 100\n",
    "def cetak_kelipatan_hingga_100(kelipatan):\n",
    "    print(f\"Bilangan kelipatan {kelipatan} dari 1 sampai 100:\")\n",
    "    for i in range(1, 101):\n",
    "        if i % kelipatan == 0:\n",
    "            print(i, end=\" \")\n",
    "    print()\n",
    "\n",
    "# Menghitung kelipatan dari (062 % 7)\n",
    "kelipatan_100 = 62 % 7  # Hasilnya adalah 6\n",
    "\n",
    "# Cetak bilangan kelipatan hingga 100\n",
    "cetak_kelipatan_hingga_100(kelipatan_100)\n"
   ]
  },
  {
   "cell_type": "markdown",
   "metadata": {},
   "source": [
    "**Soal 18**: Seorang siswa ingin mencetak bilangan genap dari 2 sampai (3 angka terakhir NIM Anda). Buat program untuk mencetak bilangan tersebut."
   ]
  },
  {
   "cell_type": "code",
   "execution_count": 29,
   "metadata": {},
   "outputs": [
    {
     "name": "stdout",
     "output_type": "stream",
     "text": [
      "Bilangan genap dari 2 sampai 62:\n",
      "2 4 6 8 10 12 14 16 18 20 22 24 26 28 30 32 34 36 38 40 42 44 46 48 50 52 54 56 58 60 62 \n"
     ]
    }
   ],
   "source": [
    "# Batas bilangan\n",
    "batas = 62\n",
    "print(f\"Bilangan genap dari 2 sampai {batas}:\")\n",
    "\n",
    "# Mencetak bilangan genap menggunakan perulangan\n",
    "for num in range(2, batas + 1, 2):\n",
    "    print(num, end=\" \")\n",
    "print()  # Baris baru di akhir\n"
   ]
  },
  {
   "cell_type": "markdown",
   "metadata": {},
   "source": [
    "**Soal 19**: Seorang penjual ingin mencetak faktorial dari (3 angka terakhir NIM Anda % 6). Buat program untuk mencetak faktorial tersebut.\n"
   ]
  },
  {
   "cell_type": "code",
   "execution_count": 32,
   "metadata": {},
   "outputs": [
    {
     "name": "stdout",
     "output_type": "stream",
     "text": [
      "Faktorial dari 2 adalah: 2\n"
     ]
    }
   ],
   "source": [
    "def faktorial(n):\n",
    "    hasil = 1\n",
    "    for i in range(1, n + 1):\n",
    "        hasil *= i\n",
    "    return hasil\n",
    "\n",
    "# Menghitung faktorial dari (062 % 6)\n",
    "nilai = 62 % 6  # Hasilnya adalah 2\n",
    "print(f\"Faktorial dari {nilai} adalah: {faktorial(nilai)}\")"
   ]
  },
  {
   "cell_type": "markdown",
   "metadata": {},
   "source": [
    "**Soal 20**: Seorang pelanggan ingin mencetak \"Selamat Datang\" sebanyak (3 angka terakhir NIM Anda % 4) kali. Buat program untuk mencetak pesan tersebut."
   ]
  },
  {
   "cell_type": "code",
   "execution_count": 27,
   "metadata": {},
   "outputs": [
    {
     "name": "stdout",
     "output_type": "stream",
     "text": [
      "Selamat Datang\n",
      "Selamat Datang\n"
     ]
    }
   ],
   "source": [
    "# Program untuk mencetak \"Selamat Datang\" sebanyak (62 % 4) kali\n",
    "def cetak_pesan(pesan, jumlah):\n",
    "    for _ in range(jumlah):\n",
    "        print(pesan)\n",
    "\n",
    "# Menghitung jumlah cetakan pesan\n",
    "jumlah_pesan = 62 % 4  # Hasilnya adalah 2\n",
    "\n",
    "# Cetak pesan\n",
    "cetak_pesan(\"Selamat Datang\", jumlah_pesan)"
   ]
  }
 ],
 "metadata": {
  "kernelspec": {
   "display_name": "pemrog",
   "language": "python",
   "name": "python3"
  },
  "language_info": {
   "codemirror_mode": {
    "name": "ipython",
    "version": 3
   },
   "file_extension": ".py",
   "mimetype": "text/x-python",
   "name": "python",
   "nbconvert_exporter": "python",
   "pygments_lexer": "ipython3",
   "version": "3.13.2"
  }
 },
 "nbformat": 4,
 "nbformat_minor": 2
}
